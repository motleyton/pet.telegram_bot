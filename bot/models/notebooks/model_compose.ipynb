{
 "cells": [
  {
   "cell_type": "code",
   "execution_count": 1,
   "metadata": {
    "_cell_guid": "b1076dfc-b9ad-4769-8c92-a6c4dae69d19",
    "_uuid": "8f2839f25d086af736a60e9eeb907d3b93b6e0e5",
    "execution": {
     "iopub.execute_input": "2022-07-24T10:36:45.935958Z",
     "iopub.status.busy": "2022-07-24T10:36:45.935111Z",
     "iopub.status.idle": "2022-07-24T10:36:45.964829Z",
     "shell.execute_reply": "2022-07-24T10:36:45.963935Z",
     "shell.execute_reply.started": "2022-07-24T10:36:45.935860Z"
    }
   },
   "outputs": [],
   "source": [
    "import pandas as pd"
   ]
  },
  {
   "cell_type": "code",
   "execution_count": 2,
   "metadata": {
    "execution": {
     "iopub.execute_input": "2022-07-24T10:36:53.919202Z",
     "iopub.status.busy": "2022-07-24T10:36:53.918622Z",
     "iopub.status.idle": "2022-07-24T10:36:53.923692Z",
     "shell.execute_reply": "2022-07-24T10:36:53.922631Z",
     "shell.execute_reply.started": "2022-07-24T10:36:53.919168Z"
    }
   },
   "outputs": [],
   "source": [
    "path_file = '../input/onegin/evgenyi_onegin.txt'"
   ]
  },
  {
   "cell_type": "code",
   "execution_count": 3,
   "metadata": {
    "execution": {
     "iopub.execute_input": "2022-07-24T10:36:54.534315Z",
     "iopub.status.busy": "2022-07-24T10:36:54.533713Z",
     "iopub.status.idle": "2022-07-24T10:36:54.549828Z",
     "shell.execute_reply": "2022-07-24T10:36:54.548945Z",
     "shell.execute_reply.started": "2022-07-24T10:36:54.534271Z"
    }
   },
   "outputs": [],
   "source": [
    "text = open(path_file, 'rb').read().decode(encoding='utf-8')"
   ]
  },
  {
   "cell_type": "code",
   "execution_count": 4,
   "metadata": {
    "execution": {
     "iopub.execute_input": "2022-07-24T10:36:55.119178Z",
     "iopub.status.busy": "2022-07-24T10:36:55.118511Z",
     "iopub.status.idle": "2022-07-24T10:36:55.124289Z",
     "shell.execute_reply": "2022-07-24T10:36:55.123362Z",
     "shell.execute_reply.started": "2022-07-24T10:36:55.119142Z"
    }
   },
   "outputs": [],
   "source": [
    "def build_text_files(data_path, dest_path):\n",
    "    f = open(dest_path, 'w')\n",
    "    data = ''\n",
    "    for texts in data_path:\n",
    "        summary = str(texts)\n",
    "        data += summary \n",
    "    f.write(data)"
   ]
  },
  {
   "cell_type": "code",
   "execution_count": 5,
   "metadata": {
    "execution": {
     "iopub.execute_input": "2022-07-24T10:36:55.637772Z",
     "iopub.status.busy": "2022-07-24T10:36:55.636759Z",
     "iopub.status.idle": "2022-07-24T10:36:55.722620Z",
     "shell.execute_reply": "2022-07-24T10:36:55.721657Z",
     "shell.execute_reply.started": "2022-07-24T10:36:55.637726Z"
    }
   },
   "outputs": [],
   "source": [
    "build_text_files(text,'train_dataset.txt')"
   ]
  },
  {
   "cell_type": "code",
   "execution_count": 6,
   "metadata": {
    "execution": {
     "iopub.execute_input": "2022-07-24T10:36:56.123458Z",
     "iopub.status.busy": "2022-07-24T10:36:56.122473Z",
     "iopub.status.idle": "2022-07-24T10:36:58.687594Z",
     "shell.execute_reply": "2022-07-24T10:36:58.686526Z",
     "shell.execute_reply.started": "2022-07-24T10:36:56.123412Z"
    }
   },
   "outputs": [],
   "source": [
    "from transformers import AutoTokenizer\n",
    "tokenizer = AutoTokenizer.from_pretrained(\"sberbank-ai/rugpt3small_based_on_gpt2\")"
   ]
  },
  {
   "cell_type": "code",
   "execution_count": 7,
   "metadata": {
    "execution": {
     "iopub.execute_input": "2022-07-24T10:36:58.690236Z",
     "iopub.status.busy": "2022-07-24T10:36:58.689500Z",
     "iopub.status.idle": "2022-07-24T10:36:58.695691Z",
     "shell.execute_reply": "2022-07-24T10:36:58.694758Z",
     "shell.execute_reply.started": "2022-07-24T10:36:58.690189Z"
    }
   },
   "outputs": [],
   "source": [
    "train_path = 'train_dataset.txt'"
   ]
  },
  {
   "cell_type": "code",
   "execution_count": 8,
   "metadata": {
    "execution": {
     "iopub.execute_input": "2022-07-24T10:36:58.698110Z",
     "iopub.status.busy": "2022-07-24T10:36:58.697111Z",
     "iopub.status.idle": "2022-07-24T10:37:05.360421Z",
     "shell.execute_reply": "2022-07-24T10:37:05.359218Z",
     "shell.execute_reply.started": "2022-07-24T10:36:58.698073Z"
    }
   },
   "outputs": [],
   "source": [
    "from transformers import TextDataset, DataCollatorForLanguageModeling\n",
    "\n",
    "def load_dataset(data, tokenizer):\n",
    "    train_dataset = TextDataset(\n",
    "          tokenizer=tokenizer,\n",
    "          file_path=train_path,\n",
    "          block_size=128)\n",
    "\n",
    "    data_collator = DataCollatorForLanguageModeling(\n",
    "        tokenizer=tokenizer, mlm=False,\n",
    "    )\n",
    "    return train_dataset, data_collator\n",
    "\n",
    "train_dataset, data_collator = load_dataset(train_path, tokenizer)"
   ]
  },
  {
   "cell_type": "code",
   "execution_count": 9,
   "metadata": {
    "execution": {
     "iopub.execute_input": "2022-07-24T10:37:05.364045Z",
     "iopub.status.busy": "2022-07-24T10:37:05.363359Z",
     "iopub.status.idle": "2022-07-24T10:37:05.423764Z",
     "shell.execute_reply": "2022-07-24T10:37:05.422251Z",
     "shell.execute_reply.started": "2022-07-24T10:37:05.364006Z"
    }
   },
   "outputs": [],
   "source": [
    "import torch\n",
    "device = torch.device(\"cuda:0\" if torch.cuda.is_available() else \"cpu\")\n",
    "print(device)"
   ]
  },
  {
   "cell_type": "code",
   "execution_count": 10,
   "metadata": {
    "execution": {
     "iopub.execute_input": "2022-07-24T10:37:05.426444Z",
     "iopub.status.busy": "2022-07-24T10:37:05.425422Z",
     "iopub.status.idle": "2022-07-24T10:37:29.728279Z",
     "shell.execute_reply": "2022-07-24T10:37:29.727268Z",
     "shell.execute_reply.started": "2022-07-24T10:37:05.426405Z"
    }
   },
   "outputs": [],
   "source": [
    "from transformers import Trainer, TrainingArguments, AutoModelForCausalLM\n",
    "\n",
    "model = AutoModelForCausalLM.from_pretrained(\"sberbank-ai/rugpt3small_based_on_gpt2\").to(device)"
   ]
  },
  {
   "cell_type": "code",
   "execution_count": 11,
   "metadata": {
    "execution": {
     "iopub.execute_input": "2022-07-24T10:37:29.730246Z",
     "iopub.status.busy": "2022-07-24T10:37:29.729591Z",
     "iopub.status.idle": "2022-07-24T10:37:29.740356Z",
     "shell.execute_reply": "2022-07-24T10:37:29.739545Z",
     "shell.execute_reply.started": "2022-07-24T10:37:29.730208Z"
    }
   },
   "outputs": [],
   "source": [
    "training_args = TrainingArguments(\n",
    "    output_dir=\"./gpt2-chief\", #The output directory\n",
    "    overwrite_output_dir=True, #overwrite the content of the output directory\n",
    "    num_train_epochs=5, # number of training epochs\n",
    "    per_device_train_batch_size=4, # batch size for training\n",
    "    per_device_eval_batch_size=4,  # batch size for evaluation\n",
    "    eval_steps = 400, # Number of update steps between two evaluations.\n",
    "    save_steps=800, # after # steps model is saved\n",
    "    warmup_steps=200,# number of warmup steps for learning rate scheduler\n",
    "    )"
   ]
  },
  {
   "cell_type": "code",
   "execution_count": 12,
   "metadata": {
    "execution": {
     "iopub.execute_input": "2022-07-24T10:37:29.742046Z",
     "iopub.status.busy": "2022-07-24T10:37:29.741706Z",
     "iopub.status.idle": "2022-07-24T10:37:30.287805Z",
     "shell.execute_reply": "2022-07-24T10:37:30.286654Z",
     "shell.execute_reply.started": "2022-07-24T10:37:29.742012Z"
    }
   },
   "outputs": [],
   "source": [
    "len(train_dataset)"
   ]
  },
  {
   "cell_type": "code",
   "execution_count": 13,
   "metadata": {
    "execution": {
     "iopub.execute_input": "2022-07-24T10:37:30.290107Z",
     "iopub.status.busy": "2022-07-24T10:37:30.289637Z",
     "iopub.status.idle": "2022-07-24T10:37:31.111035Z",
     "shell.execute_reply": "2022-07-24T10:37:31.109907Z",
     "shell.execute_reply.started": "2022-07-24T10:37:30.290069Z"
    }
   },
   "outputs": [],
   "source": [
    "trainer = Trainer(\n",
    "    model=model,\n",
    "    args=training_args,\n",
    "    data_collator=data_collator,\n",
    "    train_dataset=train_dataset,\n",
    ")"
   ]
  },
  {
   "cell_type": "code",
   "execution_count": 14,
   "metadata": {
    "execution": {
     "iopub.execute_input": "2022-07-24T10:37:31.113317Z",
     "iopub.status.busy": "2022-07-24T10:37:31.112695Z",
     "iopub.status.idle": "2022-07-24T10:38:48.034672Z",
     "shell.execute_reply": "2022-07-24T10:38:48.033470Z",
     "shell.execute_reply.started": "2022-07-24T10:37:31.113275Z"
    }
   },
   "outputs": [],
   "source": [
    "trainer.train()"
   ]
  },
  {
   "cell_type": "code",
   "execution_count": 15,
   "metadata": {
    "execution": {
     "iopub.execute_input": "2022-07-24T10:38:48.039829Z",
     "iopub.status.busy": "2022-07-24T10:38:48.038968Z",
     "iopub.status.idle": "2022-07-24T10:38:48.993417Z",
     "shell.execute_reply": "2022-07-24T10:38:48.992495Z",
     "shell.execute_reply.started": "2022-07-24T10:38:48.039786Z"
    }
   },
   "outputs": [],
   "source": [
    "trainer.save_model('model_compose')"
   ]
  },
  {
   "cell_type": "code",
   "execution_count": 16,
   "metadata": {
    "execution": {
     "iopub.execute_input": "2022-07-24T10:38:48.997060Z",
     "iopub.status.busy": "2022-07-24T10:38:48.996792Z",
     "iopub.status.idle": "2022-07-24T10:38:49.149418Z",
     "shell.execute_reply": "2022-07-24T10:38:49.148450Z",
     "shell.execute_reply.started": "2022-07-24T10:38:48.997035Z"
    }
   },
   "outputs": [],
   "source": [
    "tokenizer.save_pretrained('tokenizer_compose')"
   ]
  },
  {
   "cell_type": "code",
   "execution_count": 17,
   "metadata": {
    "execution": {
     "iopub.execute_input": "2022-07-24T10:38:49.150983Z",
     "iopub.status.busy": "2022-07-24T10:38:49.150657Z",
     "iopub.status.idle": "2022-07-24T10:38:50.191401Z",
     "shell.execute_reply": "2022-07-24T10:38:50.190399Z",
     "shell.execute_reply.started": "2022-07-24T10:38:49.150948Z"
    }
   },
   "outputs": [],
   "source": [
    "tokenizer.save_pretrained('tokenizer_compose')\n",
    "model.save_pretrained('model_compose')"
   ]
  },
  {
   "cell_type": "code",
   "execution_count": 18,
   "metadata": {
    "execution": {
     "iopub.execute_input": "2022-07-24T10:38:50.193374Z",
     "iopub.status.busy": "2022-07-24T10:38:50.192994Z",
     "iopub.status.idle": "2022-07-24T10:38:52.518460Z",
     "shell.execute_reply": "2022-07-24T10:38:52.517575Z",
     "shell.execute_reply.started": "2022-07-24T10:38:50.193337Z"
    }
   },
   "outputs": [],
   "source": [
    "tokenizer = AutoTokenizer.from_pretrained(\"tokenizer_compose\")\n",
    "model = AutoModelForCausalLM.from_pretrained(\"model_compose\")"
   ]
  },
  {
   "cell_type": "code",
   "execution_count": null,
   "metadata": {
    "execution": {
     "iopub.execute_input": "2022-07-24T10:24:12.991984Z",
     "iopub.status.busy": "2022-07-24T10:24:12.991333Z",
     "iopub.status.idle": "2022-07-24T10:24:13.026668Z",
     "shell.execute_reply": "2022-07-24T10:24:13.024539Z",
     "shell.execute_reply.started": "2022-07-24T10:24:12.991951Z"
    }
   },
   "outputs": [],
   "source": [
    "model.save('model_compose.h5')\n"
   ]
  },
  {
   "cell_type": "code",
   "execution_count": null,
   "metadata": {
    "execution": {
     "iopub.status.busy": "2022-07-24T10:09:11.936921Z",
     "iopub.status.idle": "2022-07-24T10:09:11.937873Z",
     "shell.execute_reply": "2022-07-24T10:09:11.937575Z",
     "shell.execute_reply.started": "2022-07-24T10:09:11.937545Z"
    }
   },
   "outputs": [],
   "source": [
    "prefix = \"однажды\""
   ]
  },
  {
   "cell_type": "code",
   "execution_count": null,
   "metadata": {
    "execution": {
     "iopub.status.busy": "2022-07-24T10:09:11.939662Z",
     "iopub.status.idle": "2022-07-24T10:09:11.940614Z",
     "shell.execute_reply": "2022-07-24T10:09:11.940334Z",
     "shell.execute_reply.started": "2022-07-24T10:09:11.940306Z"
    }
   },
   "outputs": [],
   "source": [
    "tokens = tokenizer(prefix, return_tensors='pt')"
   ]
  },
  {
   "cell_type": "code",
   "execution_count": null,
   "metadata": {
    "execution": {
     "iopub.status.busy": "2022-07-24T10:09:11.942734Z",
     "iopub.status.idle": "2022-07-24T10:09:11.943708Z",
     "shell.execute_reply": "2022-07-24T10:09:11.943398Z",
     "shell.execute_reply.started": "2022-07-24T10:09:11.943370Z"
    }
   },
   "outputs": [],
   "source": [
    "size = tokens['input_ids'].shape[1]\n",
    "output = model.generate(\n",
    "    **tokens, \n",
    "    #end_token=end_token_id,\n",
    "    do_sample=False,\n",
    "    \n",
    "    max_length=size+200, \n",
    "    repetition_penalty=5., \n",
    "    temperature=0.8,\n",
    "    num_beams=10,\n",
    ")\n",
    "\n",
    "decoded = tokenizer.decode(output[0])\n",
    "result = decoded[len(prefix):]\n",
    "print(prefix + result)"
   ]
  }
 ],
 "metadata": {
  "kernelspec": {
   "display_name": "Python 3",
   "language": "python",
   "name": "python3"
  },
  "language_info": {
   "codemirror_mode": {
    "name": "ipython",
    "version": 3
   },
   "file_extension": ".py",
   "mimetype": "text/x-python",
   "name": "python",
   "nbconvert_exporter": "python",
   "pygments_lexer": "ipython3",
   "version": "3.8.8"
  }
 },
 "nbformat": 4,
 "nbformat_minor": 4
}
